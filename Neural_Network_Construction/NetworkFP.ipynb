{
 "cells": [
  {
   "cell_type": "code",
   "execution_count": 1,
   "metadata": {},
   "outputs": [],
   "source": [
    "import torch\n",
    "import torchvision"
   ]
  },
  {
   "cell_type": "code",
   "execution_count": 2,
   "metadata": {},
   "outputs": [
    {
     "data": {
      "text/plain": [
       "<torch._C.Generator at 0x24299161b50>"
      ]
     },
     "execution_count": 2,
     "metadata": {},
     "output_type": "execute_result"
    }
   ],
   "source": [
    "n_epochs = 3 #epoch = number of times we go through entire dataset\n",
    "batch_size_train = 64\n",
    "batch_size_test = 1000 #batch_size = number of images we go through per step\n",
    "batch_size_val = 64\n",
    "learning_rate = 0.01\n",
    "momentum = 0.5\n",
    "log_interval = 10\n",
    "#larger batch sizes \n",
    "\n",
    "random_seed = 1\n",
    "torch.backends.cudnn.enabled = False\n",
    "torch.manual_seed(random_seed) "
   ]
  },
  {
   "cell_type": "code",
   "execution_count": 19,
   "metadata": {},
   "outputs": [],
   "source": [
    "import torch\n",
    "from PIL import Image\n",
    "from torchvision.transforms import ToTensor\n",
    "import json\n",
    "import numpy as np\n",
    "\n",
    "class Dataset(torch.utils.data.Dataset):\n",
    "\n",
    "    def __init__(self, json_path, transform=None):\n",
    "        'Initialization'\n",
    "        with open(json_path, 'r') as f:\n",
    "            data = json.load(f)\n",
    "        self.labels = list(data.values())\n",
    "        self.list_IDs = list(data.keys())\n",
    "        self.transform = transform\n",
    "\n",
    "    def __len__(self):\n",
    "        'Denotes the total number of samples'\n",
    "        return len(self.list_IDs)\n",
    "\n",
    "    def __getitem__(self, index):\n",
    "        'Generates one sample of data'\n",
    "        # Select sample\n",
    "        ID = self.list_IDs[index]\n",
    "\n",
    "        # Load data and get label\n",
    "        img_path = 'eccv_18_all_images_sm/' + ID + '.jpg'\n",
    "        image = Image.open(img_path)\n",
    "        if image.mode[0] == 'L':\n",
    "            image = image.convert('RGB')\n",
    "        if self.transform:\n",
    "            image = self.transform(image)\n",
    "        \n",
    "        X = ToTensor()(image).unsqueeze(0)\n",
    "        X = X.reshape(3, 28, 28)\n",
    "        y = self.labels[index]\n",
    "        label = 1;\n",
    "        for i in range(len(y['scores'])):\n",
    "            if(y['scores'][i] > 0.3 and y['tp_fp_labels'][i] == False):\n",
    "                label = 0;\n",
    "\n",
    "        return X, label"
   ]
  },
  {
   "cell_type": "code",
   "execution_count": 20,
   "metadata": {},
   "outputs": [
    {
     "name": "stdout",
     "output_type": "stream",
     "text": [
      "<class '__main__.Dataset'>\n",
      "1\n"
     ]
    },
    {
     "data": {
      "text/plain": [
       "torch.utils.data.dataloader.DataLoader"
      ]
     },
     "execution_count": 20,
     "metadata": {},
     "output_type": "execute_result"
    }
   ],
   "source": [
    "training_set = Dataset('FPTrainData.json', transform=torchvision.transforms.Compose([\n",
    "                               torchvision.transforms.Resize((28, 28)),                              \n",
    "                             ]))\n",
    "print(type(training_set))\n",
    "testing = training_set.__getitem__(127)\n",
    "print(testing[1])\n",
    "\n",
    "training_generator = torch.utils.data.DataLoader(training_set, batch_size=batch_size_train, shuffle=True)\n",
    "\n",
    "type(training_generator)"
   ]
  },
  {
   "cell_type": "code",
   "execution_count": 21,
   "metadata": {},
   "outputs": [],
   "source": [
    "val_set = Dataset('FPValData.json', transform=torchvision.transforms.Compose([\n",
    "                               torchvision.transforms.Resize((28, 28)),                              \n",
    "                             ]))\n",
    "\n",
    "val_generator = torch.utils.data.DataLoader(val_set, batch_size = batch_size_val, shuffle = True)"
   ]
  },
  {
   "cell_type": "code",
   "execution_count": 22,
   "metadata": {},
   "outputs": [],
   "source": [
    "testing_set = Dataset('FPTestData.json', transform=torchvision.transforms.Compose([\n",
    "                               torchvision.transforms.Resize((28, 28)),                              \n",
    "                             ]))\n",
    "\n",
    "testing_generator = torch.utils.data.DataLoader(testing_set, batch_size = batch_size_test, shuffle = True)"
   ]
  },
  {
   "cell_type": "code",
   "execution_count": 23,
   "metadata": {},
   "outputs": [],
   "source": [
    "examples = enumerate(testing_generator)\n",
    "batch_idx, (example_data, example_targets) = next(examples)"
   ]
  },
  {
   "cell_type": "code",
   "execution_count": 30,
   "metadata": {},
   "outputs": [],
   "source": [
    "c = 0"
   ]
  },
  {
   "cell_type": "code",
   "execution_count": 31,
   "metadata": {},
   "outputs": [
    {
     "data": {
      "text/plain": [
       "34"
      ]
     },
     "execution_count": 31,
     "metadata": {},
     "output_type": "execute_result"
    }
   ],
   "source": [
    "for i in range(len(testing_set)):\n",
    "    if(testing_set.__getitem__(i)[1] == 0):\n",
    "        c += 1\n",
    "\n",
    "c"
   ]
  },
  {
   "cell_type": "code",
   "execution_count": 11,
   "metadata": {},
   "outputs": [
    {
     "data": {
      "image/png": "[encoded data removed]",
      "text/plain": [
       "<Figure size 432x288 with 6 Axes>"
      ]
     },
     "execution_count": 11,
     "metadata": {},
     "output_type": "execute_result"
    },
    {
     "data": {
      "image/png": "[encoded data removed]",
      "text/plain": [
       "<Figure size 432x288 with 6 Axes>"
      ]
     },
     "metadata": {},
     "output_type": "display_data"
    }
   ],
   "source": [
    "import matplotlib.pyplot as plt\n",
    "\n",
    "fig = plt.figure()\n",
    "for i in range(6):\n",
    "  plt.subplot(2,3,i+1)\n",
    "  plt.tight_layout()\n",
    "  plt.imshow(example_data[i][0], cmap='gray', interpolation='none')\n",
    "  plt.title(\"Ground Truth: {}\".format(example_targets[i]))\n",
    "  plt.xticks([])\n",
    "  plt.yticks([])\n",
    "fig"
   ]
  },
  {
   "cell_type": "code",
   "execution_count": 12,
   "metadata": {},
   "outputs": [],
   "source": [
    "import torch.nn as nn #pytorch module for neural network package \n",
    "import torch.nn.functional as F #bunch of losses and non-linearities - needed for good layers\n",
    "import torch.optim as optim #for optimization"
   ]
  },
  {
   "cell_type": "code",
   "execution_count": 13,
   "metadata": {},
   "outputs": [],
   "source": [
    "class Net(nn.Module): #setting up network class\n",
    "    def __init__(self):\n",
    "        super(Net, self).__init__()\n",
    "        self.conv1 = nn.Conv2d(3, 10, kernel_size=5) #each of these are convolutional layers\n",
    "        self.conv2 = nn.Conv2d(10, 20, kernel_size=5) #kernel_size = how big flashlight is: 5 = 5x5 square - how much of the image we look at a time, stride is how much we move over at a time\n",
    "        self.conv2_drop = nn.Dropout2d() #try to randomly remove weights and add noise to not overfit to train_data\n",
    "        self.fc1 = nn.Linear(320, 50) #flattens everything out - fully connected, last piece of neural network and puts it all together\n",
    "        self.fc2 = nn.Linear(50, 10) #google for pictures\n",
    "\n",
    "    def forward(self, x):\n",
    "        x = F.relu(F.max_pool2d(self.conv1(x), 2)) #relu function - nonlinearity - with strength of input, scales output - rectified linear unit - without it, linear algebra and only linear transformation\n",
    "        x = F.relu(F.max_pool2d(self.conv2_drop(self.conv2(x)), 2))\n",
    "        x = x.view(-1, 320)\n",
    "        x = F.relu(self.fc1(x))\n",
    "        x = F.dropout(x, training=self.training)\n",
    "        x = self.fc2(x)\n",
    "        return F.log_softmax(x) #probabilities - puts out"
   ]
  },
  {
   "cell_type": "code",
   "execution_count": 14,
   "metadata": {},
   "outputs": [],
   "source": [
    "network = Net()\n",
    "optimizer = optim.SGD(network.parameters(), lr=learning_rate,\n",
    "                      momentum=momentum)"
   ]
  },
  {
   "cell_type": "code",
   "execution_count": 15,
   "metadata": {},
   "outputs": [],
   "source": [
    "train_losses = []\n",
    "train_counter = []\n",
    "test_losses = []\n",
    "test_counter = [i*len(training_generator.dataset) for i in range(n_epochs + 1)]"
   ]
  },
  {
   "cell_type": "code",
   "execution_count": 16,
   "metadata": {},
   "outputs": [],
   "source": [
    "def train(epoch):\n",
    "  network.train()\n",
    "  for batch_idx, (data, target) in enumerate(training_generator):\n",
    "    optimizer.zero_grad() #how we update our weights - anything 0 is not important for next step\n",
    "    output = network(data) #pass batch into the network and it gives us probabilities \n",
    "    loss = F.nll_loss(output, target) #loss function - target: one hot encoding - [0, 0, 1, 0, 0] - targeting 1, nll_loss - score - how close we are to the target\n",
    "    loss.backward() \n",
    "    optimizer.step()\n",
    "    if batch_idx % log_interval == 0:\n",
    "      print('Train Epoch: {} [{}/{} ({:.0f}%)]\\tLoss: {:.6f}'.format(\n",
    "        epoch, batch_idx * len(data), len(training_generator.dataset),\n",
    "        100. * batch_idx / len(training_generator), loss.item()))\n",
    "      train_losses.append(loss.item())\n",
    "      train_counter.append(\n",
    "        (batch_idx*64) + ((epoch-1)*len(training_generator.dataset)))\n",
    "      torch.save(network.state_dict(), 'models.pth')\n",
    "      torch.save(optimizer.state_dict(), 'optimizer.pth')"
   ]
  },
  {
   "cell_type": "code",
   "execution_count": 17,
   "metadata": {},
   "outputs": [],
   "source": [
    "def val():\n",
    "  network.eval() #freezes drop out weights \n",
    "  test_loss = 0\n",
    "  correct = 0\n",
    "  with torch.no_grad():\n",
    "    for data, target in val_generator:\n",
    "      output = network(data)\n",
    "      test_loss += F.nll_loss(output, target, size_average=False).item()\n",
    "      pred = output.data.max(1, keepdim=True)[1]\n",
    "      correct += pred.eq(target.data.view_as(pred)).sum()\n",
    "  test_loss /= len(val_generator.dataset)\n",
    "  test_losses.append(test_loss)\n",
    "  print('\\nTest set: Avg. loss: {:.4f}, Accuracy: {}/{} ({:.0f}%)\\n'.format(\n",
    "    test_loss, correct, len(val_generator.dataset),\n",
    "    100. * correct / len(val_generator.dataset)))"
   ]
  },
  {
   "cell_type": "code",
   "execution_count": 18,
   "metadata": {},
   "outputs": [
    {
     "name": "stderr",
     "output_type": "stream",
     "text": [
      "C:\\Users\\snigd\\anaconda3\\lib\\site-packages\\ipykernel_launcher.py:17: UserWarning: Implicit dimension choice for log_softmax has been deprecated. Change the call to include dim=X as an argument.\n",
      "C:\\Users\\snigd\\anaconda3\\lib\\site-packages\\torch\\nn\\_reduction.py:44: UserWarning: size_average and reduce args will be deprecated, please use reduction='sum' instead.\n",
      "  warnings.warn(warning.format(ret))\n"
     ]
    },
    {
     "name": "stdout",
     "output_type": "stream",
     "text": [
      "\n",
      "Test set: Avg. loss: 2.3287, Accuracy: 0/632 (0%)\n",
      "\n",
      "Train Epoch: 1 [0/2952 (0%)]\tLoss: 2.325131\n",
      "Train Epoch: 1 [640/2952 (21%)]\tLoss: 2.163059\n",
      "Train Epoch: 1 [1280/2952 (43%)]\tLoss: 1.949799\n",
      "Train Epoch: 1 [1920/2952 (64%)]\tLoss: 1.263219\n",
      "Train Epoch: 1 [2560/2952 (85%)]\tLoss: 0.866075\n",
      "\n",
      "Test set: Avg. loss: 0.6226, Accuracy: 509/632 (81%)\n",
      "\n",
      "Train Epoch: 2 [0/2952 (0%)]\tLoss: 0.962769\n",
      "Train Epoch: 2 [640/2952 (21%)]\tLoss: 0.582380\n",
      "Train Epoch: 2 [1280/2952 (43%)]\tLoss: 0.545718\n",
      "Train Epoch: 2 [1920/2952 (64%)]\tLoss: 0.588957\n",
      "Train Epoch: 2 [2560/2952 (85%)]\tLoss: 0.617538\n",
      "\n",
      "Test set: Avg. loss: 0.5083, Accuracy: 509/632 (81%)\n",
      "\n",
      "Train Epoch: 3 [0/2952 (0%)]\tLoss: 0.535035\n",
      "Train Epoch: 3 [640/2952 (21%)]\tLoss: 0.447921\n",
      "Train Epoch: 3 [1280/2952 (43%)]\tLoss: 0.559710\n",
      "Train Epoch: 3 [1920/2952 (64%)]\tLoss: 0.590591\n",
      "Train Epoch: 3 [2560/2952 (85%)]\tLoss: 0.651928\n",
      "\n",
      "Test set: Avg. loss: 0.5038, Accuracy: 509/632 (81%)\n",
      "\n"
     ]
    }
   ],
   "source": [
    "val()\n",
    "for epoch in range(1, n_epochs + 1):\n",
    "  train(epoch)\n",
    "  val()"
   ]
  },
  {
   "cell_type": "code",
   "execution_count": null,
   "metadata": {},
   "outputs": [],
   "source": []
  }
 ],
 "metadata": {
  "kernelspec": {
   "display_name": "Python 3",
   "language": "python",
   "name": "python3"
  },
  "language_info": {
   "codemirror_mode": {
    "name": "ipython",
    "version": 3
   },
   "file_extension": ".py",
   "mimetype": "text/x-python",
   "name": "python",
   "nbconvert_exporter": "python",
   "pygments_lexer": "ipython3",
   "version": "3.7.6"
  }
 },
 "nbformat": 4,
 "nbformat_minor": 4
}
