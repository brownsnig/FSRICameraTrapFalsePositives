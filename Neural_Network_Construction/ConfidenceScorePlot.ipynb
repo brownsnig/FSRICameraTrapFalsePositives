{
 "cells": [
  {
   "cell_type": "code",
   "execution_count": 78,
   "metadata": {},
   "outputs": [],
   "source": [
    "import pandas as pd\n",
    "import json\n",
    "# Our main plotting package (must have explicit import of submodules)\n",
    "import matplotlib.pyplot as plt"
   ]
  },
  {
   "cell_type": "code",
   "execution_count": 14,
   "metadata": {},
   "outputs": [],
   "source": [
    "dftest = pd.read_json(r'FPTestData.json').T"
   ]
  },
  {
   "cell_type": "code",
   "execution_count": 34,
   "metadata": {},
   "outputs": [
    {
     "data": {
      "text/html": [
       "<div>\n",
       "<style scoped>\n",
       "    .dataframe tbody tr th:only-of-type {\n",
       "        vertical-align: middle;\n",
       "    }\n",
       "\n",
       "    .dataframe tbody tr th {\n",
       "        vertical-align: top;\n",
       "    }\n",
       "\n",
       "    .dataframe thead th {\n",
       "        text-align: right;\n",
       "    }\n",
       "</style>\n",
       "<table border=\"1\" class=\"dataframe\">\n",
       "  <thead>\n",
       "    <tr style=\"text-align: right;\">\n",
       "      <th></th>\n",
       "      <th>scores</th>\n",
       "      <th>tp_fp_labels</th>\n",
       "    </tr>\n",
       "  </thead>\n",
       "  <tbody>\n",
       "    <tr>\n",
       "      <th>0</th>\n",
       "      <td>[0.9739999771118161, 0.26600000262260404, 0.23...</td>\n",
       "      <td>[True, False, False]</td>\n",
       "    </tr>\n",
       "    <tr>\n",
       "      <th>1</th>\n",
       "      <td>[0.9929999709129331, 0.123000003397464]</td>\n",
       "      <td>[True, False]</td>\n",
       "    </tr>\n",
       "    <tr>\n",
       "      <th>2</th>\n",
       "      <td>[0.9980000257492061]</td>\n",
       "      <td>[True]</td>\n",
       "    </tr>\n",
       "    <tr>\n",
       "      <th>3</th>\n",
       "      <td>[0.9060000181198121, 0.250999987125396]</td>\n",
       "      <td>[True, False]</td>\n",
       "    </tr>\n",
       "    <tr>\n",
       "      <th>4</th>\n",
       "      <td>[0.9980000257492061]</td>\n",
       "      <td>[True]</td>\n",
       "    </tr>\n",
       "    <tr>\n",
       "      <th>...</th>\n",
       "      <td>...</td>\n",
       "      <td>...</td>\n",
       "    </tr>\n",
       "    <tr>\n",
       "      <th>627</th>\n",
       "      <td>[0.999000012874603]</td>\n",
       "      <td>[True]</td>\n",
       "    </tr>\n",
       "    <tr>\n",
       "      <th>628</th>\n",
       "      <td>[]</td>\n",
       "      <td>[]</td>\n",
       "    </tr>\n",
       "    <tr>\n",
       "      <th>629</th>\n",
       "      <td>[0.996999979019165]</td>\n",
       "      <td>[True]</td>\n",
       "    </tr>\n",
       "    <tr>\n",
       "      <th>630</th>\n",
       "      <td>[0.9980000257492061, 0.10000000149011601]</td>\n",
       "      <td>[True, False]</td>\n",
       "    </tr>\n",
       "    <tr>\n",
       "      <th>631</th>\n",
       "      <td>[0.9929999709129331]</td>\n",
       "      <td>[True]</td>\n",
       "    </tr>\n",
       "  </tbody>\n",
       "</table>\n",
       "<p>632 rows × 2 columns</p>\n",
       "</div>"
      ],
      "text/plain": [
       "                                                scores          tp_fp_labels\n",
       "0    [0.9739999771118161, 0.26600000262260404, 0.23...  [True, False, False]\n",
       "1              [0.9929999709129331, 0.123000003397464]         [True, False]\n",
       "2                                 [0.9980000257492061]                [True]\n",
       "3              [0.9060000181198121, 0.250999987125396]         [True, False]\n",
       "4                                 [0.9980000257492061]                [True]\n",
       "..                                                 ...                   ...\n",
       "627                                [0.999000012874603]                [True]\n",
       "628                                                 []                    []\n",
       "629                                [0.996999979019165]                [True]\n",
       "630          [0.9980000257492061, 0.10000000149011601]         [True, False]\n",
       "631                               [0.9929999709129331]                [True]\n",
       "\n",
       "[632 rows x 2 columns]"
      ]
     },
     "execution_count": 34,
     "metadata": {},
     "output_type": "execute_result"
    }
   ],
   "source": [
    "arr = []\n",
    "for i in range(632):\n",
    "    arr.append(i)\n",
    "\n",
    "    \n",
    "    \n",
    "dftest.set_index(pd.Index(arr))"
   ]
  },
  {
   "cell_type": "code",
   "execution_count": 81,
   "metadata": {},
   "outputs": [
    {
     "data": {
      "text/html": [
       "<div>\n",
       "<style scoped>\n",
       "    .dataframe tbody tr th:only-of-type {\n",
       "        vertical-align: middle;\n",
       "    }\n",
       "\n",
       "    .dataframe tbody tr th {\n",
       "        vertical-align: top;\n",
       "    }\n",
       "\n",
       "    .dataframe thead th {\n",
       "        text-align: right;\n",
       "    }\n",
       "</style>\n",
       "<table border=\"1\" class=\"dataframe\">\n",
       "  <thead>\n",
       "    <tr style=\"text-align: right;\">\n",
       "      <th></th>\n",
       "      <th>scores</th>\n",
       "      <th>tp_fp_labels</th>\n",
       "    </tr>\n",
       "  </thead>\n",
       "  <tbody>\n",
       "    <tr>\n",
       "      <th>0</th>\n",
       "      <td>[0.999000012874603]</td>\n",
       "      <td>[True]</td>\n",
       "    </tr>\n",
       "    <tr>\n",
       "      <th>1</th>\n",
       "      <td>[0.999000012874603]</td>\n",
       "      <td>[True]</td>\n",
       "    </tr>\n",
       "    <tr>\n",
       "      <th>2</th>\n",
       "      <td>[0.999000012874603]</td>\n",
       "      <td>[True]</td>\n",
       "    </tr>\n",
       "    <tr>\n",
       "      <th>3</th>\n",
       "      <td>[0.999000012874603]</td>\n",
       "      <td>[True]</td>\n",
       "    </tr>\n",
       "    <tr>\n",
       "      <th>4</th>\n",
       "      <td>[0.9980000257492061]</td>\n",
       "      <td>[True]</td>\n",
       "    </tr>\n",
       "    <tr>\n",
       "      <th>...</th>\n",
       "      <td>...</td>\n",
       "      <td>...</td>\n",
       "    </tr>\n",
       "    <tr>\n",
       "      <th>2947</th>\n",
       "      <td>[0.948000013828277, 0.300999999046325, 0.17100...</td>\n",
       "      <td>[True, False, False]</td>\n",
       "    </tr>\n",
       "    <tr>\n",
       "      <th>2948</th>\n",
       "      <td>[0.999000012874603]</td>\n",
       "      <td>[True]</td>\n",
       "    </tr>\n",
       "    <tr>\n",
       "      <th>2949</th>\n",
       "      <td>[0.999000012874603]</td>\n",
       "      <td>[True]</td>\n",
       "    </tr>\n",
       "    <tr>\n",
       "      <th>2950</th>\n",
       "      <td>[0.987999975681304, 0.368000000715255]</td>\n",
       "      <td>[True, False]</td>\n",
       "    </tr>\n",
       "    <tr>\n",
       "      <th>2951</th>\n",
       "      <td>[0.999000012874603]</td>\n",
       "      <td>[True]</td>\n",
       "    </tr>\n",
       "  </tbody>\n",
       "</table>\n",
       "<p>2952 rows × 2 columns</p>\n",
       "</div>"
      ],
      "text/plain": [
       "                                                 scores          tp_fp_labels\n",
       "0                                   [0.999000012874603]                [True]\n",
       "1                                   [0.999000012874603]                [True]\n",
       "2                                   [0.999000012874603]                [True]\n",
       "3                                   [0.999000012874603]                [True]\n",
       "4                                  [0.9980000257492061]                [True]\n",
       "...                                                 ...                   ...\n",
       "2947  [0.948000013828277, 0.300999999046325, 0.17100...  [True, False, False]\n",
       "2948                                [0.999000012874603]                [True]\n",
       "2949                                [0.999000012874603]                [True]\n",
       "2950             [0.987999975681304, 0.368000000715255]         [True, False]\n",
       "2951                                [0.999000012874603]                [True]\n",
       "\n",
       "[2952 rows x 2 columns]"
      ]
     },
     "execution_count": 81,
     "metadata": {},
     "output_type": "execute_result"
    }
   ],
   "source": [
    "dftrain = pd.read_json(r'FPTrainData.json').T\n",
    "\n",
    "arr = []\n",
    "for i in range(len(dftrain)):\n",
    "    arr.append(i)\n",
    "\n",
    "    \n",
    "    \n",
    "dftrain.set_index(pd.Index(arr))"
   ]
  },
  {
   "cell_type": "code",
   "execution_count": 82,
   "metadata": {},
   "outputs": [
    {
     "data": {
      "text/html": [
       "<div>\n",
       "<style scoped>\n",
       "    .dataframe tbody tr th:only-of-type {\n",
       "        vertical-align: middle;\n",
       "    }\n",
       "\n",
       "    .dataframe tbody tr th {\n",
       "        vertical-align: top;\n",
       "    }\n",
       "\n",
       "    .dataframe thead th {\n",
       "        text-align: right;\n",
       "    }\n",
       "</style>\n",
       "<table border=\"1\" class=\"dataframe\">\n",
       "  <thead>\n",
       "    <tr style=\"text-align: right;\">\n",
       "      <th></th>\n",
       "      <th>scores</th>\n",
       "      <th>tp_fp_labels</th>\n",
       "    </tr>\n",
       "  </thead>\n",
       "  <tbody>\n",
       "    <tr>\n",
       "      <th>0</th>\n",
       "      <td>[0.996999979019165]</td>\n",
       "      <td>[True]</td>\n",
       "    </tr>\n",
       "    <tr>\n",
       "      <th>1</th>\n",
       "      <td>[0.9980000257492061]</td>\n",
       "      <td>[True]</td>\n",
       "    </tr>\n",
       "    <tr>\n",
       "      <th>2</th>\n",
       "      <td>[0.999000012874603]</td>\n",
       "      <td>[True]</td>\n",
       "    </tr>\n",
       "    <tr>\n",
       "      <th>3</th>\n",
       "      <td>[0.9980000257492061]</td>\n",
       "      <td>[True]</td>\n",
       "    </tr>\n",
       "    <tr>\n",
       "      <th>4</th>\n",
       "      <td>[0.9980000257492061]</td>\n",
       "      <td>[True]</td>\n",
       "    </tr>\n",
       "    <tr>\n",
       "      <th>...</th>\n",
       "      <td>...</td>\n",
       "      <td>...</td>\n",
       "    </tr>\n",
       "    <tr>\n",
       "      <th>627</th>\n",
       "      <td>[0.999000012874603]</td>\n",
       "      <td>[True]</td>\n",
       "    </tr>\n",
       "    <tr>\n",
       "      <th>628</th>\n",
       "      <td>[0.9980000257492061]</td>\n",
       "      <td>[True]</td>\n",
       "    </tr>\n",
       "    <tr>\n",
       "      <th>629</th>\n",
       "      <td>[0.999000012874603]</td>\n",
       "      <td>[True]</td>\n",
       "    </tr>\n",
       "    <tr>\n",
       "      <th>630</th>\n",
       "      <td>[0.976999998092651, 0.20100000500679002]</td>\n",
       "      <td>[True, False]</td>\n",
       "    </tr>\n",
       "    <tr>\n",
       "      <th>631</th>\n",
       "      <td>[0.9020000100135801, 0.15800000727176602]</td>\n",
       "      <td>[True, False]</td>\n",
       "    </tr>\n",
       "  </tbody>\n",
       "</table>\n",
       "<p>632 rows × 2 columns</p>\n",
       "</div>"
      ],
      "text/plain": [
       "                                        scores   tp_fp_labels\n",
       "0                          [0.996999979019165]         [True]\n",
       "1                         [0.9980000257492061]         [True]\n",
       "2                          [0.999000012874603]         [True]\n",
       "3                         [0.9980000257492061]         [True]\n",
       "4                         [0.9980000257492061]         [True]\n",
       "..                                         ...            ...\n",
       "627                        [0.999000012874603]         [True]\n",
       "628                       [0.9980000257492061]         [True]\n",
       "629                        [0.999000012874603]         [True]\n",
       "630   [0.976999998092651, 0.20100000500679002]  [True, False]\n",
       "631  [0.9020000100135801, 0.15800000727176602]  [True, False]\n",
       "\n",
       "[632 rows x 2 columns]"
      ]
     },
     "execution_count": 82,
     "metadata": {},
     "output_type": "execute_result"
    }
   ],
   "source": [
    "dfval = pd.read_json(r'FPValData.json').T\n",
    "\n",
    "arr = []\n",
    "for i in range(632):\n",
    "    arr.append(i)\n",
    "\n",
    "    \n",
    "    \n",
    "dfval.set_index(pd.Index(arr))"
   ]
  },
  {
   "cell_type": "code",
   "execution_count": 105,
   "metadata": {},
   "outputs": [
    {
     "data": {
      "text/plain": [
       "Text(0, 0.5, 'Count')"
      ]
     },
     "execution_count": 105,
     "metadata": {},
     "output_type": "execute_result"
    },
    {
     "data": {
      "image/png": "[encoded data removed]",
      "text/plain": [
       "<Figure size 432x288 with 1 Axes>"
      ]
     },
     "metadata": {
      "needs_background": "light"
     },
     "output_type": "display_data"
    }
   ],
   "source": [
    "testscores = []\n",
    "\n",
    "for i in range(len(dftest)):\n",
    "    for k in range(len(dftest['tp_fp_labels'][i])):\n",
    "        if dftest['tp_fp_labels'][i][k] == False:\n",
    "            if dftest['scores'][i][k] >= 0.05:\n",
    "                testscores.append(dftest['scores'][i][k])\n",
    "\n",
    "plt.hist(testscores, color = 'blue', edgecolor = 'black',\n",
    "         bins = int(180/5))\n",
    "\n",
    "plt.title('Histogram of Scores for False Positives in Test Data')\n",
    "plt.xlabel('Test Scores')\n",
    "plt.ylabel('Count')\n",
    "\n"
   ]
  },
  {
   "cell_type": "code",
   "execution_count": 108,
   "metadata": {},
   "outputs": [
    {
     "data": {
      "text/plain": [
       "Text(0, 0.5, 'Count')"
      ]
     },
     "execution_count": 108,
     "metadata": {},
     "output_type": "execute_result"
    },
    {
     "data": {
      "image/png": "[encoded data removed]",
      "text/plain": [
       "<Figure size 432x288 with 1 Axes>"
      ]
     },
     "metadata": {
      "needs_background": "light"
     },
     "output_type": "display_data"
    }
   ],
   "source": [
    "trainscores = []\n",
    "\n",
    "for i in range(len(dftrain)):\n",
    "    for k in range(len(dftrain['tp_fp_labels'][i])):\n",
    "        if dftrain['tp_fp_labels'][i][k] == False:\n",
    "            if dftrain['scores'][i][k] >= 0.05:\n",
    "                trainscores.append(dftrain['scores'][i][k])\n",
    "\n",
    "plt.hist(trainscores, color = 'blue', edgecolor = 'black',\n",
    "         bins = int(180/5))\n",
    "\n",
    "plt.title('Histogram of Scores for False Positives in Train Data')\n",
    "plt.xlabel('Train Scores')\n",
    "plt.ylabel('Count')"
   ]
  },
  {
   "cell_type": "code",
   "execution_count": 107,
   "metadata": {},
   "outputs": [
    {
     "data": {
      "text/plain": [
       "Text(0, 0.5, 'Count')"
      ]
     },
     "execution_count": 107,
     "metadata": {},
     "output_type": "execute_result"
    },
    {
     "data": {
      "image/png": "[encoded data removed]",
      "text/plain": [
       "<Figure size 432x288 with 1 Axes>"
      ]
     },
     "metadata": {
      "needs_background": "light"
     },
     "output_type": "display_data"
    }
   ],
   "source": [
    "valscores = []\n",
    "\n",
    "for i in range(len(dfval)):\n",
    "    for k in range(len(dfval['tp_fp_labels'][i])):\n",
    "        if dfval['tp_fp_labels'][i][k] == False:\n",
    "            if dfval['scores'][i][k] >= 0.05:\n",
    "                valscores.append(dfval['scores'][i][k])\n",
    "                \n",
    "plt.hist(valscores, color = 'blue', edgecolor = 'black',\n",
    "         bins = int(180/5))\n",
    "\n",
    "plt.title('Histogram of Scores for FP Val Data')\n",
    "plt.xlabel('Val Scores')\n",
    "plt.ylabel('Count')"
   ]
  },
  {
   "cell_type": "code",
   "execution_count": null,
   "metadata": {},
   "outputs": [],
   "source": []
  }
 ],
 "metadata": {
  "kernelspec": {
   "display_name": "Python 3",
   "language": "python",
   "name": "python3"
  },
  "language_info": {
   "codemirror_mode": {
    "name": "ipython",
    "version": 3
   },
   "file_extension": ".py",
   "mimetype": "text/x-python",
   "name": "python",
   "nbconvert_exporter": "python",
   "pygments_lexer": "ipython3",
   "version": "3.7.6"
  }
 },
 "nbformat": 4,
 "nbformat_minor": 4
}
